{
 "cells": [
  {
   "cell_type": "markdown",
   "metadata": {},
   "source": [
    "# Projeto de Inteligência Artificial"
   ]
  },
  {
   "cell_type": "markdown",
   "metadata": {},
   "source": [
    "\n",
    "### Trabalho Realizado por:\n",
    "- Bruno Monteiro Miranda nº 26014\n",
    "- Daniel Aléxis Oliveira Pereira nº 26432\n",
    "### Introdução\n",
    "\n",
    "Este projeto de Inteligência Artificial visa resolver um problema de agendamento de projetos utilizando programação por restrições. O objetivo é determinar a melhor sequência de tarefas para minimizar o tempo total de conclusão (makespan), respeitando as restrições de precedência e disponibilidade de recursos.\n",
    "\n",
    "### Estrutura do Projeto\n",
    "\n",
    "1. **Instalação da Biblioteca Constraint**: Utilizamos a biblioteca `python-constraint` para modelar e resolver o problema de agendamento.\n",
    "2. **Leitura do Ficheiro de Entrada**: Um ficheiro de texto contendo informações sobre os projetos, tarefas, relações de precedência, durações e recursos é lido e processado.\n",
    "3. **Inicialização do Problema e Restrições**: O problema é modelado definindo variáveis para cada tarefa, adicionando restrições de precedência e de recursos.\n",
    "4. **Resolução do Problema**: Utilizamos o solver da biblioteca `python-constraint` para encontrar uma solução viável que minimize o makespan.\n",
    "5. **Exibição dos Resultados**: A solução encontrada é exibida de forma organizada, mostrando o tempo de início e término de cada tarefa.\n",
    "\n",
    "### Objetivo\n",
    "\n",
    "O objetivo principal é encontrar uma sequência de execução das tarefas que respeite todas as restrições impostas e minimize o makespan, garantindo uma utilização eficiente dos recursos disponíveis.\n"
   ]
  },
  {
   "cell_type": "markdown",
   "metadata": {},
   "source": [
    "### Instalação da biblioteca constraint"
   ]
  },
  {
   "cell_type": "code",
   "execution_count": 22,
   "metadata": {},
   "outputs": [
    {
     "name": "stdout",
     "output_type": "stream",
     "text": [
      "Requirement already satisfied: python-constraint in c:\\users\\daniel pereira\\desktop\\projetos\\aulas\\ia24_p13\\.venv\\lib\\site-packages (1.4.0)\n",
      "Note: you may need to restart the kernel to use updated packages.\n"
     ]
    }
   ],
   "source": [
    "%pip install python-constraint"
   ]
  },
  {
   "cell_type": "code",
   "execution_count": 23,
   "metadata": {},
   "outputs": [],
   "source": [
    "import re\n",
    "from constraint import Problem"
   ]
  },
  {
   "cell_type": "markdown",
   "metadata": {},
   "source": [
    "### Leitura do ficheiro de entrada"
   ]
  },
  {
   "cell_type": "code",
   "execution_count": 24,
   "metadata": {},
   "outputs": [],
   "source": [
    "def read_dataset(file_path):\n",
    "    with open(file_path, 'r') as file:\n",
    "        lines = file.readlines()\n",
    "\n",
    "    data = {\n",
    "        \"general_info\": {},\n",
    "        \"projects_summary\": [],\n",
    "        \"precedence_relations\": [],\n",
    "        \"durations_resources\": [],\n",
    "        \"resource_availability\": {}\n",
    "    }\n",
    "\n",
    "    # Skip line é para passar a linha do Projects summary à frente pois tem um header\n",
    "    # e o programa não consegue identificar o header como uma linha de dados\n",
    "    skip_line = False\n",
    "    section = None\n",
    "    for line in lines:\n",
    "        if skip_line:\n",
    "            skip_line = False\n",
    "            continue\n",
    "        line = line.strip()\n",
    "        if line.startswith(\"************\"):\n",
    "            continue\n",
    "        elif line.startswith(\"#General Information\"):\n",
    "            section = \"general_info\"\n",
    "        elif line.startswith(\"#Projects summary\"):\n",
    "            section = \"projects_summary\"\n",
    "            # skip the next line (header)\n",
    "            skip_line = True\n",
    "        elif line.startswith(\"#Precedence relations\"):\n",
    "            section = \"precedence_relations\"\n",
    "        elif line.startswith(\"#Duration and resources\"):\n",
    "            section = \"durations_resources\"\n",
    "        elif line.startswith(\"#Resource availability\"):\n",
    "            section = \"resource_availability\"\n",
    "        elif section == \"general_info\":\n",
    "            if \"projects\" in line:\n",
    "                data[\"general_info\"][\"projects\"] = int(re.search(r'projects\\s*:\\s*(\\d+)', line).group(1))\n",
    "            elif \"jobs\" in line:\n",
    "                data[\"general_info\"][\"jobs\"] = int(re.search(r'jobs \\(incl\\. supersource/sink \\):\\s+(\\d+)', line).group(1))\n",
    "            elif \"horizon\" in line:\n",
    "                data[\"general_info\"][\"horizon\"] = int(re.search(r'horizon\\s*:\\s*(\\d+)', line).group(1))\n",
    "            elif \"nonrenewable\" in line:\n",
    "                data[\"general_info\"][\"nonrenewable_resources\"] = int(re.search(r'nonrenewable\\s+:\\s+(\\d+)', line).group(1))            \n",
    "            elif \"renewable\" in line:\n",
    "                data[\"general_info\"][\"renewable_resources\"] = int(re.search(r'renewable\\s+:\\s+(\\d+)', line).group(1))\n",
    "            elif \"doubly constrained\" in line:\n",
    "                data[\"general_info\"][\"doubly_constrained_resources\"] = int(re.search(r'doubly constrained\\s+:\\s+(\\d+)', line).group(1))\n",
    "        elif section == \"projects_summary\":\n",
    "            if line and not line.startswith(\"#\"):\n",
    "                parts = line.split()\n",
    "                data[\"projects_summary\"].append({\n",
    "                    \"pronr\": int(parts[0]),\n",
    "                    \"jobs\": int(parts[1]),\n",
    "                    \"rel_date\": int(parts[2]),\n",
    "                    \"due_date\": int(parts[3]),\n",
    "                    \"tard_cost\": int(parts[4]),\n",
    "                    \"mpm_time\": int(parts[5])\n",
    "                })\n",
    "        elif section == \"precedence_relations\":\n",
    "            if line and not line.startswith(\"#\"):\n",
    "                parts = line.split()\n",
    "                jobnr = int(parts[0])\n",
    "                modes = int(parts[1])\n",
    "                successors_count = int(parts[2])\n",
    "                successors = list(map(int, parts[3:]))\n",
    "                data[\"precedence_relations\"].append({\n",
    "                    \"jobnr\": jobnr,\n",
    "                    \"modes\": modes,\n",
    "                    \"successors_count\": successors_count,\n",
    "                    \"successors\": successors\n",
    "                })\n",
    "        elif section == \"durations_resources\":\n",
    "            if line and not line.startswith(\"#\"):\n",
    "                parts = line.split()\n",
    "                jobnr = int(parts[0])\n",
    "                mode = int(parts[1])\n",
    "                duration = int(parts[2])\n",
    "                resources = list(map(int, parts[3:]))\n",
    "                data[\"durations_resources\"].append({\n",
    "                    \"jobnr\": jobnr,\n",
    "                    \"mode\": mode,\n",
    "                    \"duration\": duration,\n",
    "                    \"resources\": resources\n",
    "                })\n",
    "        elif section == \"resource_availability\":\n",
    "            if line and not line.startswith(\"#\"):\n",
    "                parts = line.split()\n",
    "                resource = parts[0]\n",
    "                qty = int(parts[1])\n",
    "                data[\"resource_availability\"][resource] = qty\n",
    "\n",
    "    return data"
   ]
  },
  {
   "cell_type": "markdown",
   "metadata": {},
   "source": [
    "### Lê o ficheiro de entrada e guarda os valores em variáveis"
   ]
  },
  {
   "cell_type": "code",
   "execution_count": 25,
   "metadata": {},
   "outputs": [],
   "source": [
    "file_path = 'P01_DATASET_8.TXT'\n",
    "dataset = read_dataset(file_path)"
   ]
  },
  {
   "cell_type": "markdown",
   "metadata": {},
   "source": [
    "### Inicialização do problema e restrições"
   ]
  },
  {
   "cell_type": "code",
   "execution_count": 26,
   "metadata": {},
   "outputs": [],
   "source": [
    "# Inicializar o problema\n",
    "problem = Problem()\n",
    "# Obter a data de vencimento (due_date) do primeiro projeto\n",
    "due_date = dataset[\"projects_summary\"][0][\"due_date\"]\n",
    "\n",
    "# Criar variáveis para cada tarefa (domínio = intervalo de início até o due_date)\n",
    "for job in dataset[\"durations_resources\"]:\n",
    "    jobnr = job[\"jobnr\"]\n",
    "    problem.addVariable(jobnr, range(due_date + 1))  # Domínio vai até due_date, inclusive\n",
    "\n",
    "# Restrições de precedência\n",
    "for relation in dataset[\"precedence_relations\"]:\n",
    "    job = relation[\"jobnr\"]\n",
    "    successors = relation[\"successors\"]\n",
    "    duration = next(j[\"duration\"] for j in dataset[\"durations_resources\"] if j[\"jobnr\"] == job)\n",
    "\n",
    "    for successor in successors:\n",
    "        problem.addConstraint(lambda j_start, s_start, d=duration: s_start >= j_start + d, [job, successor])\n",
    "\n",
    "# Restrições de recursos (renováveis)\n",
    "resource_limits = dataset[\"resource_availability\"]\n",
    "\n",
    "# Função para verificar o uso de recursos em um instante\n",
    "def resource_constraint(*args):\n",
    "    resource_usage = {resource: [0] * (due_date + 1) for resource in resource_limits}\n",
    "    for idx, start_time in enumerate(args):\n",
    "        job = dataset[\"durations_resources\"][idx]\n",
    "        duration = job[\"duration\"]\n",
    "        resources = job[\"resources\"]\n",
    "\n",
    "        for t in range(start_time, start_time + duration):\n",
    "            if t <= due_date:  # Verificar apenas até o due_date\n",
    "                for r_idx, qty in enumerate(resources):\n",
    "                    resource = f'R{r_idx + 1}'\n",
    "                    resource_usage[resource][t] += qty\n",
    "                    if resource_usage[resource][t] > resource_limits[resource]:\n",
    "                        return False\n",
    "    return True\n",
    "\n",
    "# Adicionar restrição de recursos\n",
    "problem.addConstraint(resource_constraint, [job[\"jobnr\"] for job in dataset[\"durations_resources\"]])\n",
    "\n",
    "# Restrições de duração (limitar ao due_date)\n",
    "for job in dataset[\"durations_resources\"]:\n",
    "    jobnr = job[\"jobnr\"]\n",
    "    duration = job[\"duration\"]\n",
    "    problem.addConstraint(lambda start, d=duration: start + d <= due_date, [jobnr])"
   ]
  },
  {
   "cell_type": "markdown",
   "metadata": {},
   "source": [
    "### Resolve o problema"
   ]
  },
  {
   "cell_type": "code",
   "execution_count": null,
   "metadata": {},
   "outputs": [
    {
     "name": "stdout",
     "output_type": "stream",
     "text": [
      "\n",
      "Makespan: 11\n",
      "Solução organizada (por tempo de início):\n",
      "Tarefa 5: começa em 1, termina em 3\n",
      "Tarefa 7: começa em 3, termina em 7\n",
      "Tarefa 6: começa em 3, termina em 6\n",
      "Tarefa 1: começa em 4, termina em 6\n",
      "Tarefa 3: começa em 6, termina em 10\n",
      "Tarefa 2: começa em 7, termina em 10\n",
      "Tarefa 4: começa em 10, termina em 11\n",
      "Tarefa 8: começa em 10, termina em 11\n"
     ]
    }
   ],
   "source": [
    "# Resolver o problema\n",
    "solution = problem.getSolution()\n",
    "\n",
    "# Calcular o makespan\n",
    "tasks = dataset[\"durations_resources\"]\n",
    "start_times = [solution[task[\"jobnr\"]] for task in tasks]\n",
    "end_times = [solution[task[\"jobnr\"]] + task[\"duration\"] for task in tasks]\n",
    "makespan = max(end_times) - min(start_times)\n",
    "print(f\"\\nMakespan: {makespan}\")\n",
    "\n",
    "# Exibir a solução organizada\n",
    "if solution:\n",
    "    sorted_tasks = sorted(solution.items(), key=lambda x: x[1])  # Ordena pelo tempo de início\n",
    "\n",
    "    print(\"Solução organizada (por tempo de início):\")\n",
    "    for task, start_time in sorted_tasks:\n",
    "        duration = next(d[\"duration\"] for d in dataset[\"durations_resources\"] if d[\"jobnr\"] == task)\n",
    "        end_time = start_time + duration\n",
    "        print(f\"Tarefa {task}: começa em {start_time}, termina em {end_time}\")\n",
    "else:\n",
    "    print(\"Nenhuma solução viável encontrada.\")\n"
   ]
  },
  {
   "cell_type": "markdown",
   "metadata": {},
   "source": [
    "\n",
    "### Conclusão\n",
    "\n",
    "Neste projeto, abordamos o problema de agendamento de projetos utilizando programação por restrições com a biblioteca `python-constraint`. Através da leitura e processamento de um ficheiro de entrada, conseguimos modelar o problema definindo variáveis e restrições de precedência e recursos. Utilizamos o solver da biblioteca para encontrar uma solução viável que minimiza o makespan.\n",
    "\n",
    "Os resultados obtidos mostram a sequência de execução das tarefas, respeitando todas as restrições impostas e garantindo uma utilização eficiente dos recursos disponíveis. Este método pode ser aplicado a diversos tipos de problemas de agendamento, demonstrando a flexibilidade e eficácia da programação por restrições em resolver problemas complexos de otimização.\n"
   ]
  }
 ],
 "metadata": {
  "kernelspec": {
   "display_name": ".venv",
   "language": "python",
   "name": "python3"
  },
  "language_info": {
   "codemirror_mode": {
    "name": "ipython",
    "version": 3
   },
   "file_extension": ".py",
   "mimetype": "text/x-python",
   "name": "python",
   "nbconvert_exporter": "python",
   "pygments_lexer": "ipython3",
   "version": "3.12.2"
  }
 },
 "nbformat": 4,
 "nbformat_minor": 2
}
